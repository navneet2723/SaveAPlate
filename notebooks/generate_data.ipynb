{
 "cells": [
  {
   "cell_type": "code",
   "execution_count": 10,
   "metadata": {},
   "outputs": [],
   "source": [
    "import pandas as pd\n",
    "import random\n",
    "from faker import Faker\n",
    "from sklearn.model_selection import train_test_split\n",
    "from sklearn.preprocessing import LabelEncoder\n",
    "from sklearn.ensemble import RandomForestClassifier"
   ]
  },
  {
   "cell_type": "code",
   "execution_count": 11,
   "metadata": {},
   "outputs": [],
   "source": [
    "fake = Faker()"
   ]
  },
  {
   "cell_type": "code",
   "execution_count": null,
   "metadata": {},
   "outputs": [],
   "source": [
    "def generate_bangalore_dataset(num_records=1000):\n",
    "    \"\"\"\n",
    "    Generate a synthetic dataset of individuals in Bangalore.\n",
    "\n",
    "    Args:\n",
    "        num_records (int): The number of records to generate.\n",
    "\n",
    "    Returns:\n",
    "        pd.DataFrame: A pandas DataFrame containing the generated dataset.\n",
    "    \"\"\"\n",
    "    preferred_areas = [\n",
    "        \"Jayanagar\", \"Rajajinagar\", \"Koramangala\", \"Whitefield\", \n",
    "        \"Indiranagar\", \"Malleshwaram\"\n",
    "    ]\n",
    "    other_areas = [\n",
    "        \"Marathahalli\", \"HSR Layout\", \"BTM Layout\", \"Basavanagudi\", \n",
    "        \"Banashankari\", \"Electronic City\", \"Yelahanka\", \"Hebbal\", \n",
    "        \"JP Nagar\", \"KR Puram\"\n",
    "    ]\n",
    "    bangalore_areas = preferred_areas * 5 + other_areas\n",
    "    \n",
    "    dataset = []\n",
    "    for _ in range(num_records):\n",
    "        person = {\n",
    "            \"id\": fake.uuid4(),\n",
    "            \"name\": fake.name(),\n",
    "            \"age\": random.randint(18, 70),\n",
    "            \"gender\": random.choice([\"Male\", \"Female\", \"Non-binary\"]),\n",
    "            \"status\": random.choice([\"Poor\", \"Homeless\", \"Both\"]),\n",
    "            \"city\": \"Bangalore\",\n",
    "            \"area\": random.choice(bangalore_areas),\n",
    "            \"is_housed\": random.choice([True, False]),\n",
    "        }\n",
    "        dataset.append(person)\n",
    "    return pd.DataFrame(dataset)\n"
   ]
  },
  {
   "cell_type": "code",
   "execution_count": null,
   "metadata": {},
   "outputs": [],
   "source": [
    "num_records = 100000\n",
    "dataset = generate_bangalore_dataset(num_records)"
   ]
  },
  {
   "cell_type": "code",
   "execution_count": null,
   "metadata": {},
   "outputs": [],
   "source": [
    "\n",
    "\n",
    "\"\"\"\n",
    "Count how many times each unique area appears in the 'area' column of the dataset\n",
    "area_counts = dataset['area'].value_counts().reset_index()\n",
    "\n",
    "Rename the columns to make them more readable: 'area' for the area names and 'people_count' for the count of people in each area\n",
    "area_counts.columns = ['area', 'people_count']\n",
    "\"\"\"\n",
    "area_counts = dataset['area'].value_counts().reset_index()\n",
    "area_counts.columns = ['area', 'people_count']\n"
   ]
  },
  {
   "cell_type": "code",
   "execution_count": 15,
   "metadata": {},
   "outputs": [],
   "source": [
    "dataset = dataset.merge(area_counts, on='area', how='left')"
   ]
  },
  {
   "cell_type": "code",
   "execution_count": 16,
   "metadata": {},
   "outputs": [],
   "source": [
    "min_people = dataset['people_count'].min()\n",
    "max_people = dataset['people_count'].max()\n"
   ]
  },
  {
   "cell_type": "code",
   "execution_count": null,
   "metadata": {},
   "outputs": [],
   "source": [
    "\"\"\"\n",
    "# Assign points based on the area’s people count:\n",
    "# 3 points for most people, 1 point for least, 2 points for others\n",
    "\"\"\"\n",
    "def assign_points(row):\n",
    "    if row['people_count'] == max_people:\n",
    "        return 3  \n",
    "    elif row['people_count'] == min_people:\n",
    "        return 1  \n",
    "    else:\n",
    "        return 2  \n",
    "\n",
    "dataset['area_points'] = dataset.apply(assign_points, axis=1)\n"
   ]
  },
  {
   "cell_type": "code",
   "execution_count": 18,
   "metadata": {},
   "outputs": [],
   "source": [
    "train_data, test_data = train_test_split(dataset, test_size=0.3, random_state=42)\n"
   ]
  },
  {
   "cell_type": "code",
   "execution_count": 19,
   "metadata": {},
   "outputs": [],
   "source": [
    "train_data.to_csv(\"../data/train/bangalore_train.csv\", index=False)\n",
    "test_data.to_csv(\"../data/test/bangalore_test.csv\", index=False)"
   ]
  }
 ],
 "metadata": {
  "kernelspec": {
   "display_name": "Python 3",
   "language": "python",
   "name": "python3"
  },
  "language_info": {
   "codemirror_mode": {
    "name": "ipython",
    "version": 3
   },
   "file_extension": ".py",
   "mimetype": "text/x-python",
   "name": "python",
   "nbconvert_exporter": "python",
   "pygments_lexer": "ipython3",
   "version": "3.10.12"
  }
 },
 "nbformat": 4,
 "nbformat_minor": 2
}
